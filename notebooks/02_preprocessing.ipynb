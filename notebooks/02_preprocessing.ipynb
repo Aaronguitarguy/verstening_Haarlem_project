{
 "cells": [
  {
   "cell_type": "markdown",
   "id": "21da39b6",
   "metadata": {},
   "source": [
    "In de volgende code maak ik een nieuw TIF bestand waarbij de picels met 0-waarden vervangen zijn als NoData-pixels."
   ]
  },
  {
   "cell_type": "code",
   "execution_count": null,
   "id": "5f4fedeb",
   "metadata": {},
   "outputs": [],
   "source": [
    "import numpy as np\n",
    "import rasterio\n",
    "from rasterio.windows import Window\n",
    "import warnings\n",
    "from rasterio.errors import NotGeoreferencedWarning\n",
    "\n",
    "warnings.filterwarnings(\"ignore\", category=NotGeoreferencedWarning)\n",
    "\n",
    "input_path = \"../data/private/satelliet_haarlem_2024.tif\"\n",
    "output_path = \"../data/private/satelliet_haarlem_2024_preprocessed_blocks.tif\"\n",
    "\n",
    "with rasterio.open(input_path) as src:\n",
    "    profile = src.profile.copy()\n",
    "    profile.update(\n",
    "        dtype='float32',\n",
    "        count=3,\n",
    "        nodata=np.nan,\n",
    "        compress='deflate',\n",
    "        predictor=2,\n",
    "        zlevel=6,\n",
    "        bigtiff='yes'\n",
    "    )\n",
    "\n",
    "    with rasterio.open(output_path, 'w', **profile) as dst:\n",
    "        # Loop over blokken\n",
    "        for ji, window in src.block_windows(1):\n",
    "            data = src.read([1, 2, 3], window=window)\n",
    "\n",
    "            # Zet 0 om in NaN\n",
    "            data = np.where(data == 0, np.nan, data).astype('float32')\n",
    "\n",
    "            # Schrijf blok\n",
    "            dst.write(data, window=window)\n",
    "\n",
    "print(\"Grote raster verwerkt in blokken en opgeslagen als:\", output_path)\n"
   ]
  }
 ],
 "metadata": {
  "kernelspec": {
   "display_name": ".venv",
   "language": "python",
   "name": "python3"
  },
  "language_info": {
   "codemirror_mode": {
    "name": "ipython",
    "version": 3
   },
   "file_extension": ".py",
   "mimetype": "text/x-python",
   "name": "python",
   "nbconvert_exporter": "python",
   "pygments_lexer": "ipython3",
   "version": "3.13.1"
  }
 },
 "nbformat": 4,
 "nbformat_minor": 5
}
